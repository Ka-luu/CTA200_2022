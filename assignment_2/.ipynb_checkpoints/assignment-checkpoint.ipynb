{
 "cells": [
  {
   "cell_type": "code",
   "execution_count": 69,
   "id": "98e84557",
   "metadata": {},
   "outputs": [],
   "source": [
    "# Part 1\n",
    "def f(x):\n",
    "    return x**3 - x**2 - 1\n",
    "\n",
    "def df(x):\n",
    "    return 3*x**2 - 2*x"
   ]
  },
  {
   "cell_type": "code",
   "execution_count": 70,
   "id": "36db6dbf",
   "metadata": {},
   "outputs": [],
   "source": [
    "# Part 2\n",
    "def newton(f, df, x0, epsilon=1e-6, max_iter=30):\n",
    "    for i in range(0, max_iter):\n",
    "        x1 = x0 -f(x0)/df(x0)\n",
    "        it = f(x0)\n",
    "        if it < epsilon:\n",
    "            print(f\"Found root in the {i+1}th iterations\")\n",
    "            return x0\n",
    "        else:\n",
    "            print(\"Iteration failed\")\n",
    "        x0 = x1\n",
    "    return x0\n",
    "\n",
    "### test\n",
    "# x = 4\n",
    "# root = newton(f, df, x)\n",
    "\n",
    "# print(root)"
   ]
  },
  {
   "cell_type": "code",
   "execution_count": 71,
   "id": "0caf892f",
   "metadata": {},
   "outputs": [
    {
     "name": "stdout",
     "output_type": "stream",
     "text": [
      "Iteration failed\n",
      "Iteration failed\n",
      "Iteration failed\n",
      "Iteration failed\n",
      "Iteration failed\n",
      "Iteration failed\n",
      "Iteration failed\n",
      "Iteration failed\n",
      "Iteration failed\n",
      "Iteration failed\n",
      "Iteration failed\n",
      "Iteration failed\n",
      "Iteration failed\n",
      "Iteration failed\n",
      "Iteration failed\n",
      "Iteration failed\n",
      "Iteration failed\n",
      "Iteration failed\n",
      "Found root in the 19th iterations\n",
      "1.465571239307544\n"
     ]
    }
   ],
   "source": [
    "# Part 3\n",
    "# Trial 1\n",
    "x = 400\n",
    "t1 = newton(f, df, x)\n",
    "print(t1)"
   ]
  },
  {
   "cell_type": "code",
   "execution_count": 72,
   "id": "5befd73a",
   "metadata": {},
   "outputs": [
    {
     "name": "stdout",
     "output_type": "stream",
     "text": [
      "Iteration failed\n",
      "Iteration failed\n",
      "Iteration failed\n",
      "Iteration failed\n",
      "Iteration failed\n",
      "Iteration failed\n",
      "Iteration failed\n",
      "Iteration failed\n",
      "Iteration failed\n",
      "Iteration failed\n",
      "Iteration failed\n",
      "Iteration failed\n",
      "Iteration failed\n",
      "Iteration failed\n",
      "Iteration failed\n",
      "Iteration failed\n",
      "Iteration failed\n",
      "Iteration failed\n",
      "Iteration failed\n",
      "Iteration failed\n",
      "Iteration failed\n",
      "Found root in the 22th iterations\n",
      "1.4655713979923115\n"
     ]
    }
   ],
   "source": [
    "# Part 3\n",
    "# Trial 2\n",
    "x = 1500\n",
    "t2 = newton(f, df, x)\n",
    "print(t2)"
   ]
  },
  {
   "cell_type": "code",
   "execution_count": 73,
   "id": "568d0647",
   "metadata": {},
   "outputs": [],
   "source": [
    "# Part 3\n",
    "# Reducing epsilon to 1e-8\n",
    "\n",
    "def newton_newep(f, df, x0, epsilon=1e-8, max_iter=30):\n",
    "    for i in range(0, max_iter):\n",
    "        x1 = x0 -f(x0)/df(x0)\n",
    "        it = f(x0)\n",
    "        if it < epsilon:\n",
    "            print(f\"Found root in the {i+1}th iterations\")\n",
    "            return x0\n",
    "        else:\n",
    "            print(\"Iteration failed\")\n",
    "        x0 = x1\n",
    "    return x0"
   ]
  },
  {
   "cell_type": "code",
   "execution_count": 74,
   "id": "f1617167",
   "metadata": {},
   "outputs": [
    {
     "name": "stdout",
     "output_type": "stream",
     "text": [
      "Iteration failed\n",
      "Iteration failed\n",
      "Iteration failed\n",
      "Iteration failed\n",
      "Iteration failed\n",
      "Iteration failed\n",
      "Iteration failed\n",
      "Iteration failed\n",
      "Iteration failed\n",
      "Iteration failed\n",
      "Iteration failed\n",
      "Iteration failed\n",
      "Iteration failed\n",
      "Iteration failed\n",
      "Iteration failed\n",
      "Iteration failed\n",
      "Iteration failed\n",
      "Iteration failed\n",
      "Iteration failed\n",
      "Found root in the 20th iterations\n",
      "1.4655712318767682\n"
     ]
    }
   ],
   "source": [
    "# Trial 1\n",
    "x = 400\n",
    "t1_newep = newton_newep(f, df, x)\n",
    "print(t1_newep)"
   ]
  },
  {
   "cell_type": "code",
   "execution_count": 75,
   "id": "bf3ea56a",
   "metadata": {},
   "outputs": [
    {
     "name": "stdout",
     "output_type": "stream",
     "text": [
      "Iteration failed\n",
      "Iteration failed\n",
      "Iteration failed\n",
      "Iteration failed\n",
      "Iteration failed\n",
      "Iteration failed\n",
      "Iteration failed\n",
      "Iteration failed\n",
      "Iteration failed\n",
      "Iteration failed\n",
      "Iteration failed\n",
      "Iteration failed\n",
      "Iteration failed\n",
      "Iteration failed\n",
      "Iteration failed\n",
      "Iteration failed\n",
      "Iteration failed\n",
      "Iteration failed\n",
      "Iteration failed\n",
      "Iteration failed\n",
      "Iteration failed\n",
      "Iteration failed\n",
      "Found root in the 23th iterations\n",
      "1.4655712318767948\n"
     ]
    }
   ],
   "source": [
    "# Trial 2\n",
    "x = 1500\n",
    "t2_newep = newton_newep(f, df, x)\n",
    "print(t2_newep)"
   ]
  },
  {
   "cell_type": "code",
   "execution_count": null,
   "id": "f323c3c3",
   "metadata": {},
   "outputs": [],
   "source": []
  }
 ],
 "metadata": {
  "kernelspec": {
   "display_name": "Python 3 (ipykernel)",
   "language": "python",
   "name": "python3"
  },
  "language_info": {
   "codemirror_mode": {
    "name": "ipython",
    "version": 3
   },
   "file_extension": ".py",
   "mimetype": "text/x-python",
   "name": "python",
   "nbconvert_exporter": "python",
   "pygments_lexer": "ipython3",
   "version": "3.10.2"
  }
 },
 "nbformat": 4,
 "nbformat_minor": 5
}
